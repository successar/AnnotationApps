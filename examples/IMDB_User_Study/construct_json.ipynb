{
 "cells": [
  {
   "cell_type": "code",
   "execution_count": 16,
   "metadata": {},
   "outputs": [],
   "source": [
    "import pandas as pd \n"
   ]
  },
  {
   "cell_type": "code",
   "execution_count": 17,
   "metadata": {},
   "outputs": [],
   "source": [
    "m1, m2, m3 = pd.read_csv(\"User study - Sarthak - 1.csv\"), pd.read_csv(\"User study - Sarthak - 2.csv\"), pd.read_csv(\"User study - Sarthak - 3.csv\")"
   ]
  },
  {
   "cell_type": "code",
   "execution_count": 19,
   "metadata": {},
   "outputs": [],
   "source": [
    "m1 = m1.fillna(\"\")\n",
    "m2 = m2.fillna(\"\")\n",
    "m3 = m3.fillna(\"\")"
   ]
  },
  {
   "cell_type": "code",
   "execution_count": 20,
   "metadata": {},
   "outputs": [],
   "source": [
    "m1_list = m1.apply(lambda x : (\n",
    "    {\"text\" : x[\"Sample\"], \"gold_label\" : x[\"Gold-label\"], \"predicted_label\" : x[\"Prediction\"], \n",
    "    \"positives\" : [x[\"Positive-1\"], x[\"Positive-1.1\"], x[\"Positive-1.2\"]], \n",
    "    \"negatives\" : [x[\"Negative-1\"], x[\"Negative-2\"], x[\"Negative-3\"]]\n",
    "    })\n",
    ", axis=1)\n",
    "\n",
    "m2_list = m2.apply(lambda x : (\n",
    "    {\"text\" : x[\"Sample\"], \"gold_label\" : x[\"Gold-label\"], \"predicted_label\" : x[\"Prediction\"], \n",
    "    \"positives\" : [x[\"Positive-1\"], x[\"Positive-1.1\"], x[\"Positive-1.2\"]], \n",
    "    \"negatives\" : [x[\"Negative-1\"], x[\"Negative-2\"], x[\"Negative-3\"]]\n",
    "    })\n",
    ", axis=1)\n",
    "\n",
    "m3_list = m3.apply(lambda x : (\n",
    "    {\"text\" : x[\"Sample\"], \"gold_label\" : x[\"Gold-label\"], \"predicted_label\" : x[\"Prediction\"], \n",
    "    \"positives\" : [x[\"Positive-1\"], x[\"Positive-1.1\"], x[\"Positive-1.2\"]], \n",
    "    \"negatives\" : [x[\"Negative-1\"], x[\"Negative-2\"], x[\"Negative-3\"]]\n",
    "    })\n",
    ", axis=1)"
   ]
  },
  {
   "cell_type": "code",
   "execution_count": 21,
   "metadata": {},
   "outputs": [],
   "source": [
    "import json \n",
    "with open(\"Sarthak.json\", \"w\") as f :\n",
    "    json.dump({\"method_1\" : list(m1_list.values), \"method_2\" : list(m2_list.values), \"method_3\": list(m3_list.values)}, f)"
   ]
  },
  {
   "cell_type": "code",
   "execution_count": null,
   "metadata": {},
   "outputs": [],
   "source": []
  }
 ],
 "metadata": {
  "kernelspec": {
   "display_name": "Python 3.8.5 64-bit ('influence': conda)",
   "name": "python385jvsc74a57bd0d548a0300c69c4dda33a8bf8388c1f48c0659ff1e0921268272b8c83f36ae0a5"
  },
  "language_info": {
   "codemirror_mode": {
    "name": "ipython",
    "version": 3
   },
   "file_extension": ".py",
   "mimetype": "text/x-python",
   "name": "python",
   "nbconvert_exporter": "python",
   "pygments_lexer": "ipython3",
   "version": "3.8.5"
  },
  "orig_nbformat": 2
 },
 "nbformat": 4,
 "nbformat_minor": 2
}